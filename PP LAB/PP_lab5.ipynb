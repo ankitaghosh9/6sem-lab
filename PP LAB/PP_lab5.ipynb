{
  "nbformat": 4,
  "nbformat_minor": 0,
  "metadata": {
    "colab": {
      "name": "PP lab5.ipynb",
      "provenance": [],
      "collapsed_sections": []
    },
    "kernelspec": {
      "name": "python3",
      "display_name": "Python 3"
    },
    "language_info": {
      "name": "python"
    },
    "accelerator": "GPU"
  },
  "cells": [
    {
      "cell_type": "markdown",
      "metadata": {
        "id": "nRgi7rOu-ozE"
      },
      "source": [
        "#Name: Ankita Ghosh\n",
        "#Reg number: 180905354\n",
        "#Sec:A Roll number:41"
      ]
    },
    {
      "cell_type": "code",
      "metadata": {
        "id": "i1PvODU69UN0"
      },
      "source": [
        "!apt-get --purge remove cuda nvidia* libnvidia-*\n",
        "!dpkg -l | grep cuda- | awk '{print $2}' | xargs -n1 dpkg --purge\n",
        "!apt-get remove cuda-*\n",
        "!apt autoremove\n",
        "!apt-get update"
      ],
      "execution_count": null,
      "outputs": []
    },
    {
      "cell_type": "code",
      "metadata": {
        "id": "EwFsuoT--CAF"
      },
      "source": [
        "!wget https://developer.nvidia.com/compute/cuda/9.2/Prod/local_installers/cuda-repo-ubuntu1604-9-2-local_9.2.88-1_amd64 -O cuda-repo-ubuntu1604-9-2-local_9.2.88-1_amd64.deb\n",
        "!dpkg -i cuda-repo-ubuntu1604-9-2-local_9.2.88-1_amd64.deb\n",
        "!apt-key add /var/cuda-repo-9-2-local/7fa2af80.pub\n",
        "!apt-get update\n",
        "!apt-get install cuda-9.2"
      ],
      "execution_count": null,
      "outputs": []
    },
    {
      "cell_type": "code",
      "metadata": {
        "id": "K6EBPe9a-Ghr"
      },
      "source": [
        "!nvcc --version"
      ],
      "execution_count": null,
      "outputs": []
    },
    {
      "cell_type": "code",
      "metadata": {
        "id": "IMnxdAj--LGq"
      },
      "source": [
        "!pip install git+git://github.com/andreinechaev/nvcc4jupyter.git"
      ],
      "execution_count": null,
      "outputs": []
    },
    {
      "cell_type": "code",
      "metadata": {
        "id": "ktfSRVxw-Qtz"
      },
      "source": [
        "%load_ext nvcc_plugin"
      ],
      "execution_count": null,
      "outputs": []
    },
    {
      "cell_type": "markdown",
      "metadata": {
        "id": "-rijrTccAsam"
      },
      "source": [
        "##Question 1"
      ]
    },
    {
      "cell_type": "code",
      "metadata": {
        "colab": {
          "base_uri": "https://localhost:8080/"
        },
        "id": "YHRXsOHlHDPG",
        "outputId": "7d271c16-edcf-4a8a-9419-dfcaca3a66db"
      },
      "source": [
        "%%cu\n",
        "#include<stdio.h>\n",
        "#include \"cuda_runtime.h\"\n",
        "#include \"device_launch_parameters.h\"\n",
        "\n",
        "const int n = 260;\n",
        "\n",
        "__global__ void vec_add_blocks(int* a, int* b, int* c)\n",
        "{\n",
        "\tint tid=blockIdx.x;\n",
        "  if(tid<n){\n",
        "      c[tid]=a[tid]+b[tid];\n",
        "  }\n",
        "}\n",
        "__global__ void vec_add_threads(int* a, int* b, int* c)\n",
        "{\n",
        "\tint tid=threadIdx.x;\n",
        "  if(tid<n){\n",
        "      c[tid]=a[tid]+b[tid];\n",
        "  }\n",
        "}\n",
        "__global__ void vec_add_blocks_threads(int* a, int* b, int* c)\n",
        "{\n",
        "\tint tid=threadIdx.x + blockIdx.x*blockDim.x;\n",
        "  while ( tid < n ){\n",
        "      c[tid]=a[tid]+b[tid];\n",
        "      tid+= blockDim.x * gridDim.x ;\n",
        "  }\n",
        "}\n",
        "\n",
        "int main()\n",
        "{\n",
        "\n",
        "\tint a[n],b[n],c[n];\n",
        "\tint *d_a,*d_b,*d_c;\n",
        "\tint size=sizeof(int);\n",
        "\n",
        "\tcudaMalloc((void **)&d_a,size*n);\n",
        "  cudaMalloc((void **)&d_b,size*n);\n",
        "  cudaMalloc((void **)&d_c,size*n);\n",
        "\t\n",
        "  for(int i=0;i<n;i++){\n",
        "      a[i]=i;\n",
        "      b[i]=i+10;\n",
        "  }\n",
        "  printf(\"Array A: \");\n",
        "   for(int i=0;i<n;i++){\n",
        "      printf(\"%d \",a[i]);\n",
        "  }\n",
        "  printf(\"\\n\");\n",
        "   \n",
        "   printf(\"Array B: \");\n",
        "   for(int i=0;i<n;i++){\n",
        "      printf(\"%d \",b[i]);\n",
        "  }\n",
        "  printf(\"\\n\");\n",
        "  printf(\"\\n\");\n",
        "\n",
        "\tcudaMemcpy(d_a,&a,size*n,cudaMemcpyHostToDevice);\n",
        "  cudaMemcpy(d_b,&b,size*n,cudaMemcpyHostToDevice);\n",
        "\tvec_add_blocks<<<n,1>>>(d_a,d_b,d_c);\n",
        "\tcudaMemcpy(&c,d_c,size*n,cudaMemcpyDeviceToHost);\n",
        "  printf(\"Using blocks: \");\n",
        "  for(int i=0;i<n;i++){\n",
        "      printf(\"%d \",c[i]);\n",
        "  }\n",
        "  printf(\"\\n\");\n",
        "  vec_add_threads<<<1,n>>>(d_a,d_b,d_c);\n",
        "\tcudaMemcpy(&c,d_c,size*n,cudaMemcpyDeviceToHost);\n",
        "  printf(\"Using n threads:\");\n",
        "  for(int i=0;i<n;i++){\n",
        "      printf(\"%d \",c[i]);\n",
        "  }\n",
        "  printf(\"\\n\");\n",
        "  vec_add_blocks_threads<<<(n+255)/256,256>>>(d_a,d_b,d_c);\n",
        "\tcudaMemcpy(&c,d_c,size*n,cudaMemcpyDeviceToHost);\n",
        "  printf(\"Varying blocks and 256 threads:\");\n",
        "  for(int i=0;i<n;i++){\n",
        "      printf(\"%d \",c[i]);\n",
        "  }\n",
        "  cudaFree(d_a);\n",
        "  cudaFree(d_b);\n",
        "  cudaFree(d_c);\n",
        "}"
      ],
      "execution_count": null,
      "outputs": [
        {
          "output_type": "stream",
          "text": [
            "Array A: 0 1 2 3 4 5 6 7 8 9 10 11 12 13 14 15 16 17 18 19 20 21 22 23 24 25 26 27 28 29 30 31 32 33 34 35 36 37 38 39 40 41 42 43 44 45 46 47 48 49 50 51 52 53 54 55 56 57 58 59 60 61 62 63 64 65 66 67 68 69 70 71 72 73 74 75 76 77 78 79 80 81 82 83 84 85 86 87 88 89 90 91 92 93 94 95 96 97 98 99 100 101 102 103 104 105 106 107 108 109 110 111 112 113 114 115 116 117 118 119 120 121 122 123 124 125 126 127 128 129 130 131 132 133 134 135 136 137 138 139 140 141 142 143 144 145 146 147 148 149 150 151 152 153 154 155 156 157 158 159 160 161 162 163 164 165 166 167 168 169 170 171 172 173 174 175 176 177 178 179 180 181 182 183 184 185 186 187 188 189 190 191 192 193 194 195 196 197 198 199 200 201 202 203 204 205 206 207 208 209 210 211 212 213 214 215 216 217 218 219 220 221 222 223 224 225 226 227 228 229 230 231 232 233 234 235 236 237 238 239 240 241 242 243 244 245 246 247 248 249 250 251 252 253 254 255 256 257 258 259 \n",
            "Array B: 10 11 12 13 14 15 16 17 18 19 20 21 22 23 24 25 26 27 28 29 30 31 32 33 34 35 36 37 38 39 40 41 42 43 44 45 46 47 48 49 50 51 52 53 54 55 56 57 58 59 60 61 62 63 64 65 66 67 68 69 70 71 72 73 74 75 76 77 78 79 80 81 82 83 84 85 86 87 88 89 90 91 92 93 94 95 96 97 98 99 100 101 102 103 104 105 106 107 108 109 110 111 112 113 114 115 116 117 118 119 120 121 122 123 124 125 126 127 128 129 130 131 132 133 134 135 136 137 138 139 140 141 142 143 144 145 146 147 148 149 150 151 152 153 154 155 156 157 158 159 160 161 162 163 164 165 166 167 168 169 170 171 172 173 174 175 176 177 178 179 180 181 182 183 184 185 186 187 188 189 190 191 192 193 194 195 196 197 198 199 200 201 202 203 204 205 206 207 208 209 210 211 212 213 214 215 216 217 218 219 220 221 222 223 224 225 226 227 228 229 230 231 232 233 234 235 236 237 238 239 240 241 242 243 244 245 246 247 248 249 250 251 252 253 254 255 256 257 258 259 260 261 262 263 264 265 266 267 268 269 \n",
            "\n",
            "Using blocks: 10 12 14 16 18 20 22 24 26 28 30 32 34 36 38 40 42 44 46 48 50 52 54 56 58 60 62 64 66 68 70 72 74 76 78 80 82 84 86 88 90 92 94 96 98 100 102 104 106 108 110 112 114 116 118 120 122 124 126 128 130 132 134 136 138 140 142 144 146 148 150 152 154 156 158 160 162 164 166 168 170 172 174 176 178 180 182 184 186 188 190 192 194 196 198 200 202 204 206 208 210 212 214 216 218 220 222 224 226 228 230 232 234 236 238 240 242 244 246 248 250 252 254 256 258 260 262 264 266 268 270 272 274 276 278 280 282 284 286 288 290 292 294 296 298 300 302 304 306 308 310 312 314 316 318 320 322 324 326 328 330 332 334 336 338 340 342 344 346 348 350 352 354 356 358 360 362 364 366 368 370 372 374 376 378 380 382 384 386 388 390 392 394 396 398 400 402 404 406 408 410 412 414 416 418 420 422 424 426 428 430 432 434 436 438 440 442 444 446 448 450 452 454 456 458 460 462 464 466 468 470 472 474 476 478 480 482 484 486 488 490 492 494 496 498 500 502 504 506 508 510 512 514 516 518 520 522 524 526 528 \n",
            "Using n threads:10 12 14 16 18 20 22 24 26 28 30 32 34 36 38 40 42 44 46 48 50 52 54 56 58 60 62 64 66 68 70 72 74 76 78 80 82 84 86 88 90 92 94 96 98 100 102 104 106 108 110 112 114 116 118 120 122 124 126 128 130 132 134 136 138 140 142 144 146 148 150 152 154 156 158 160 162 164 166 168 170 172 174 176 178 180 182 184 186 188 190 192 194 196 198 200 202 204 206 208 210 212 214 216 218 220 222 224 226 228 230 232 234 236 238 240 242 244 246 248 250 252 254 256 258 260 262 264 266 268 270 272 274 276 278 280 282 284 286 288 290 292 294 296 298 300 302 304 306 308 310 312 314 316 318 320 322 324 326 328 330 332 334 336 338 340 342 344 346 348 350 352 354 356 358 360 362 364 366 368 370 372 374 376 378 380 382 384 386 388 390 392 394 396 398 400 402 404 406 408 410 412 414 416 418 420 422 424 426 428 430 432 434 436 438 440 442 444 446 448 450 452 454 456 458 460 462 464 466 468 470 472 474 476 478 480 482 484 486 488 490 492 494 496 498 500 502 504 506 508 510 512 514 516 518 520 522 524 526 528 \n",
            "Varying blocks and 256 threads:10 12 14 16 18 20 22 24 26 28 30 32 34 36 38 40 42 44 46 48 50 52 54 56 58 60 62 64 66 68 70 72 74 76 78 80 82 84 86 88 90 92 94 96 98 100 102 104 106 108 110 112 114 116 118 120 122 124 126 128 130 132 134 136 138 140 142 144 146 148 150 152 154 156 158 160 162 164 166 168 170 172 174 176 178 180 182 184 186 188 190 192 194 196 198 200 202 204 206 208 210 212 214 216 218 220 222 224 226 228 230 232 234 236 238 240 242 244 246 248 250 252 254 256 258 260 262 264 266 268 270 272 274 276 278 280 282 284 286 288 290 292 294 296 298 300 302 304 306 308 310 312 314 316 318 320 322 324 326 328 330 332 334 336 338 340 342 344 346 348 350 352 354 356 358 360 362 364 366 368 370 372 374 376 378 380 382 384 386 388 390 392 394 396 398 400 402 404 406 408 410 412 414 416 418 420 422 424 426 428 430 432 434 436 438 440 442 444 446 448 450 452 454 456 458 460 462 464 466 468 470 472 474 476 478 480 482 484 486 488 490 492 494 496 498 500 502 504 506 508 510 512 514 516 518 520 522 524 526 528 \n"
          ],
          "name": "stdout"
        }
      ]
    },
    {
      "cell_type": "markdown",
      "metadata": {
        "id": "3qz2JS1G_Vp8"
      },
      "source": [
        "##Question 2"
      ]
    },
    {
      "cell_type": "code",
      "metadata": {
        "colab": {
          "base_uri": "https://localhost:8080/"
        },
        "id": "e0AmbviqBwvn",
        "outputId": "21bdbf91-9281-4671-83c7-ad9cd13f4933"
      },
      "source": [
        "%%cu\n",
        "#include<stdio.h>\n",
        "#include \"cuda_runtime.h\"\n",
        "#include \"device_launch_parameters.h\"\n",
        "\n",
        "const int n=10;\n",
        "\n",
        "__global__ void selection_sort_parallel(int* a, int* c)\n",
        "{\n",
        "\tint tid=threadIdx.x;\n",
        "  int pos=0;\n",
        "  if(tid<n){\n",
        "      for(int j=0;j<n;j++){\n",
        "          if((a[j]<a[tid])||(a[j]==a[tid])&&(j<tid)){\n",
        "              pos=pos+1;\n",
        "          }\n",
        "      }\n",
        "      c[pos]=a[tid];\n",
        "  }\n",
        "}\n",
        "\n",
        "int main()\n",
        "{\n",
        "\n",
        "\tint c[n];\n",
        "\tint *d_a,*d_c;\n",
        "\tint size=sizeof(int);\n",
        "  int a[10]={2,24,5,67,9,100,234,12,56,1234};\n",
        "  printf(\"Original array: \");\n",
        "  for(int i=0;i<n;i++)\n",
        "  {\n",
        "      printf(\"%d \",a[i]);\n",
        "  }\n",
        " printf(\"\\n\");\n",
        "\tcudaMalloc((void **)&d_a,size*n);\n",
        "  cudaMalloc((void **)&d_c,size*n);\n",
        "\tcudaMemcpy(d_a,&a,size*n,cudaMemcpyHostToDevice);\n",
        "  cudaMemcpy(d_c,&c,size*n,cudaMemcpyHostToDevice);\n",
        "\tselection_sort_parallel<<<1,n>>>(d_a,d_c);\n",
        "\tcudaMemcpy(&c,d_c,size*n,cudaMemcpyDeviceToHost);\n",
        "  printf(\"Sorted array: \");\n",
        "  for(int i=0;i<n;i++){\n",
        "      printf(\"%d \",c[i]);\n",
        "  }\n",
        "  cudaFree(d_a);\n",
        "  cudaFree(d_c);\n",
        "}"
      ],
      "execution_count": null,
      "outputs": [
        {
          "output_type": "stream",
          "text": [
            "Original array: 2 24 5 67 9 100 234 12 56 1234 \n",
            "Sorted array: 2 5 9 12 24 56 67 100 234 1234 \n"
          ],
          "name": "stdout"
        }
      ]
    },
    {
      "cell_type": "markdown",
      "metadata": {
        "id": "c0m5OuEiDHha"
      },
      "source": [
        "##Question 3"
      ]
    },
    {
      "cell_type": "code",
      "metadata": {
        "colab": {
          "base_uri": "https://localhost:8080/"
        },
        "id": "SRWuJMx9_A1a",
        "outputId": "7d463e18-befc-4d0d-beb4-f0256792695c"
      },
      "source": [
        "%%cu\n",
        "#include <stdio.h>\n",
        "#include <stdlib.h>\n",
        "__global__ void oddsort(int *a,int n)\n",
        "{\n",
        "    \n",
        "    int i=threadIdx.x+blockDim.x*blockIdx.x;\n",
        "    int el1=2*i+1;int el2=2*i+2;\n",
        "    if(el1<n && el2<n)\n",
        "    {\n",
        "        if(a[el1]>a[el2])\n",
        "        {\n",
        "            int temp=a[el1];\n",
        "            a[el1]=a[el2];\n",
        "            a[el2]=temp;\n",
        "        }\n",
        "    }\n",
        "}\n",
        "__global__ void evensort(int *a,int n)\n",
        "{\n",
        "    int i=threadIdx.x+blockDim.x*blockIdx.x;\n",
        "    int el1=2*i;int el2=2*i+1;\n",
        "    if(el1<n && el2<n)\n",
        "    {\n",
        "        if(a[el1]>a[el2])\n",
        "        {\n",
        "            int temp=a[el1];\n",
        "            a[el1]=a[el2];\n",
        "            a[el2]=temp;\n",
        "        }\n",
        "    }\n",
        "}\n",
        "void hostfunc(int *a,int n)\n",
        "{\n",
        "    int size = n*sizeof(int);\n",
        "    int *d_a;\n",
        "    cudaMalloc((void**)&d_a,size);\n",
        "    cudaMemcpy(d_a,a,size,cudaMemcpyHostToDevice);\n",
        "    for(int i=0;i<n/2;i++)\n",
        "    {\n",
        "        evensort<<<1,256>>>(d_a,n);\n",
        "        oddsort<<<1,256>>>(d_a,n);\n",
        "        \n",
        "    }\n",
        "    cudaMemcpy(a,d_a,size,cudaMemcpyDeviceToHost);\n",
        "    cudaFree(d_a);\n",
        "}\n",
        "int main()\n",
        "{\n",
        "    int n=10;\n",
        "    int a[10]={2,24,5,67,9,100,234,12,56,1234};\n",
        "    printf(\"Original array: \");\n",
        "     for(int i=0;i<n;i++)\n",
        "    {\n",
        "        printf(\"%d \",a[i]);\n",
        "    }\n",
        "    printf(\"\\n\");\n",
        "\n",
        "    \n",
        "    hostfunc(a,n);\n",
        "   printf(\"Sorted array: \");\n",
        "    for(int i=0;i<n;i++)\n",
        "    {\n",
        "        printf(\"%d \",a[i]);\n",
        "    }\n",
        "    printf(\"\\n\");\n",
        "}"
      ],
      "execution_count": null,
      "outputs": [
        {
          "output_type": "stream",
          "text": [
            "Original array: 2 24 5 67 9 100 234 12 56 1234 \n",
            "Sorted array: 2 5 9 12 24 56 67 100 234 1234 \n",
            "\n"
          ],
          "name": "stdout"
        }
      ]
    }
  ]
}