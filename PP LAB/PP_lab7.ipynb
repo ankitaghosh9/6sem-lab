{
  "nbformat": 4,
  "nbformat_minor": 0,
  "metadata": {
    "colab": {
      "name": "PP lab7.ipynb",
      "provenance": []
    },
    "kernelspec": {
      "name": "python3",
      "display_name": "Python 3"
    },
    "language_info": {
      "name": "python"
    },
    "accelerator": "GPU"
  },
  "cells": [
    {
      "cell_type": "markdown",
      "metadata": {
        "id": "nRgi7rOu-ozE"
      },
      "source": [
        "#Name: Ankita Ghosh\n",
        "#Reg number: 180905354\n",
        "#Sec:A Roll number:41"
      ]
    },
    {
      "cell_type": "markdown",
      "metadata": {
        "id": "ebI1PHhLsdi3"
      },
      "source": [
        "Colab Link: https://colab.research.google.com/drive/1XpQZLwTLfm79ByrLqYrXQkBxtsvfZvkl?usp=sharing"
      ]
    },
    {
      "cell_type": "code",
      "metadata": {
        "id": "i1PvODU69UN0"
      },
      "source": [
        "!apt-get --purge remove cuda nvidia* libnvidia-*\n",
        "!dpkg -l | grep cuda- | awk '{print $2}' | xargs -n1 dpkg --purge\n",
        "!apt-get remove cuda-*\n",
        "!apt autoremove\n",
        "!apt-get update"
      ],
      "execution_count": null,
      "outputs": []
    },
    {
      "cell_type": "code",
      "metadata": {
        "id": "EwFsuoT--CAF"
      },
      "source": [
        "!wget https://developer.nvidia.com/compute/cuda/9.2/Prod/local_installers/cuda-repo-ubuntu1604-9-2-local_9.2.88-1_amd64 -O cuda-repo-ubuntu1604-9-2-local_9.2.88-1_amd64.deb\n",
        "!dpkg -i cuda-repo-ubuntu1604-9-2-local_9.2.88-1_amd64.deb\n",
        "!apt-key add /var/cuda-repo-9-2-local/7fa2af80.pub\n",
        "!apt-get update\n",
        "!apt-get install cuda-9.2"
      ],
      "execution_count": null,
      "outputs": []
    },
    {
      "cell_type": "code",
      "metadata": {
        "id": "K6EBPe9a-Ghr"
      },
      "source": [
        "!nvcc --version"
      ],
      "execution_count": null,
      "outputs": []
    },
    {
      "cell_type": "code",
      "metadata": {
        "id": "IMnxdAj--LGq"
      },
      "source": [
        "!pip install git+git://github.com/andreinechaev/nvcc4jupyter.git"
      ],
      "execution_count": null,
      "outputs": []
    },
    {
      "cell_type": "code",
      "metadata": {
        "id": "ktfSRVxw-Qtz"
      },
      "source": [
        "%load_ext nvcc_plugin"
      ],
      "execution_count": null,
      "outputs": []
    },
    {
      "cell_type": "markdown",
      "metadata": {
        "id": "-rijrTccAsam"
      },
      "source": [
        "##Question 1\n",
        "#####Write a program in CUDA to count the number of times a given word is repeated in a sentence. (Use Atomic function)."
      ]
    },
    {
      "cell_type": "code",
      "metadata": {
        "colab": {
          "base_uri": "https://localhost:8080/"
        },
        "id": "rGzCPCTXlRUb",
        "outputId": "67773de9-d4b0-4d92-99dc-2cf45cba02bc"
      },
      "source": [
        "%%cu\n",
        "#include <stdio.h>\n",
        "#include <stdlib.h>\n",
        "#include \"cuda_runtime.h\"\n",
        "#include \"device_launch_parameters.h\"\n",
        "\n",
        "__global__ void FindCount(char* str,int* d_count,int* len_words,char* word)\n",
        "{\n",
        "\n",
        "  int tempIdx=threadIdx.x;\n",
        "  int idx=0;\n",
        "  for(int i=0;i<tempIdx;i++)\n",
        "  {\n",
        "      idx += len_words[i]+1;\n",
        "  }\n",
        "\n",
        "  char s[10];\n",
        "  int x=0;\n",
        "\n",
        "  for(int j=0;j<len_words[tempIdx];j++){\n",
        "      s[x++]=str[idx+j];\n",
        "  }\n",
        "  s[x] = '\\0';\n",
        "\n",
        "  int flag=0;\n",
        "  for(int k=0;k<len_words[tempIdx];k++){\n",
        "      if(s[k]!=word[k]){\n",
        "          flag=1;\n",
        "          break;\n",
        "      }\n",
        "  }\n",
        "  if(flag==0){\n",
        "      atomicAdd(d_count,1);\n",
        "  }\n",
        "}\n",
        "\n",
        "int main(){\n",
        "  char str[]=\"My name is Ankita Ghosh and name of the lab is PP\";\n",
        "  printf(\"Sentence: %s\\n\\n\",str);\n",
        "  char word[]=\"name\";\n",
        "  int words_num=1;\n",
        "  int count=0;\n",
        "  int final_ans;\n",
        "  int i=0;\n",
        "  while(str[i]!='\\0')\n",
        "  {\n",
        "      if(str[i]==' ')\n",
        "      words_num++;\n",
        "      i++;\n",
        "  }\n",
        "  int len_words[words_num];\n",
        "  int len=0,j=0;\n",
        "  i=0;\n",
        "  while(str[i] != '\\0')\n",
        "  {\n",
        "      len++;\n",
        "      if(str[i]==' '){\n",
        "          len--;\n",
        "          len_words[j++]=len;\n",
        "          len=0;\n",
        "      }\n",
        "      i++;\n",
        "  }\n",
        "  len_words[j]=len;\n",
        "\n",
        "  int words_total=sizeof(len_words)/sizeof(int);\n",
        "\n",
        " char* d_str;\n",
        " int* d_count;\n",
        " char* d_word;\n",
        " int* d_lenwords;\n",
        "\n",
        "  cudaMalloc((void**)&d_str,strlen(str)*sizeof(char));\n",
        "  cudaMalloc((void**)&d_count,sizeof(int));\n",
        "  cudaMalloc((void**)&d_word,strlen(word)*sizeof(char));\n",
        "  cudaMalloc((void**)&d_lenwords,words_total*sizeof(int));\n",
        "\n",
        "  cudaMemcpy(d_str,str,strlen(str)*sizeof(char),cudaMemcpyHostToDevice);\n",
        "  cudaMemcpy(d_count,&count,sizeof(int),cudaMemcpyHostToDevice);\n",
        "  cudaMemcpy(d_word,word,strlen(word)*sizeof(char),cudaMemcpyHostToDevice);\n",
        "  cudaMemcpy(d_lenwords,len_words,words_total*sizeof(int),cudaMemcpyHostToDevice);\n",
        "\n",
        "  FindCount<<<1,words_total>>>(d_str,d_count,d_lenwords,d_word);\n",
        "\n",
        "  cudaMemcpy(&final_ans,d_count,sizeof(int),cudaMemcpyDeviceToHost);\n",
        "\n",
        "  printf(\"Word: %s\\nFrequency in sentence: %d\\n\",word,final_ans);\n",
        "\n",
        "  cudaFree(d_str);\n",
        "  cudaFree(d_count);\n",
        "  cudaFree(d_word);\n",
        "  cudaFree(d_lenwords);\n",
        "\n",
        "\n",
        "}"
      ],
      "execution_count": null,
      "outputs": [
        {
          "output_type": "stream",
          "text": [
            "Sentence: My name is Ankita Ghosh and name of the lab is PP\n",
            "\n",
            "Word: name\n",
            "Frequency in sentence: 2\n",
            "\n"
          ],
          "name": "stdout"
        }
      ]
    },
    {
      "cell_type": "markdown",
      "metadata": {
        "id": "Z0FSa7HIlYV8"
      },
      "source": [
        "##Question 2\n",
        "#####Write a CUDA program that reads a string Sin and produces the string Sout as follows:\n",
        "#####Input string Sin: PCAP              \n",
        "#####Output string Sout: PCAPPCAPCP"
      ]
    },
    {
      "cell_type": "code",
      "metadata": {
        "colab": {
          "base_uri": "https://localhost:8080/"
        },
        "id": "iBbdwFoolcji",
        "outputId": "5fa04b1d-3eba-420c-cc4b-f5c9a71a0e14"
      },
      "source": [
        "%%cu\n",
        "#include <cuda.h>\n",
        "#include <stdio.h>\n",
        "#include <stdlib.h>\n",
        "#include <string.h>\n",
        "#include \"cuda_runtime.h\"\n",
        "#include \"device_launch_parameters.h\"\n",
        "\n",
        "__global__ void getNewString(char *Sin,char *Sout,int len)\n",
        "{\n",
        "    int tempIdx = threadIdx.x;\n",
        "    int idx =0;\n",
        "    for(int i=0;i<tempIdx;i++)\n",
        "        idx += len-(i);\n",
        " \n",
        "    for(int i=0;i<(len-tempIdx);i++)\n",
        "        Sout[idx+i] =Sin[i];\n",
        "}\n",
        "\n",
        "\n",
        "int main(){\n",
        "    char Sin[]=\"PCAP\";\n",
        "    printf(\"Input String: %s\\n\",Sin);\n",
        "    int Sin_len = strlen(Sin);\n",
        "    int Sout_len = ((Sin_len*(Sin_len+1))/2);\n",
        "    char Sout[Sout_len];\n",
        "    char result[Sout_len];\n",
        "\n",
        "    char *d_Sin;\n",
        "    char *d_Sout;\n",
        "\n",
        "    cudaMalloc((void**)&d_Sin,Sin_len*sizeof(char));\n",
        "    cudaMalloc((void**)&d_Sout,Sout_len*sizeof(char));\n",
        "\n",
        "    cudaMemcpy(d_Sin,Sin,Sin_len*sizeof(char),cudaMemcpyHostToDevice);\n",
        "    cudaMemcpy(d_Sout,Sout,Sout_len*sizeof(char),cudaMemcpyHostToDevice);\n",
        "\n",
        "    getNewString<<<1,Sin_len>>>(d_Sin,d_Sout,Sin_len);\n",
        "\n",
        "    cudaMemcpy(result,d_Sout,Sout_len*sizeof(char),cudaMemcpyDeviceToHost);\n",
        "    result[Sout_len] = '\\0';\n",
        "\n",
        "    printf(\"Output String: %s\\n\",result);\n",
        "\n",
        "    cudaFree(d_Sin);\n",
        "    cudaFree(d_Sout);\n",
        "}"
      ],
      "execution_count": null,
      "outputs": [
        {
          "output_type": "stream",
          "text": [
            "Input String: PCAP\n",
            "Output String: PCAPPCAPCP\n",
            "\n"
          ],
          "name": "stdout"
        }
      ]
    }
  ]
}